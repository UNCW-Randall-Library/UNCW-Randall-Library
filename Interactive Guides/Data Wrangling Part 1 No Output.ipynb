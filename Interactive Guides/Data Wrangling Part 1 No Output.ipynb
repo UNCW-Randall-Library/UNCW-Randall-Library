{
 "cells": [
  {
   "cell_type": "markdown",
   "id": "50491507",
   "metadata": {},
   "source": [
    "# Module 4: Data Wrangling Part 1\n",
    "## How to Clean and Manipulate your Data in R\n",
    "## Hawken Hass\n",
    "## University of North Carolina Wilmington"
   ]
  },
  {
   "cell_type": "markdown",
   "id": "9ca2e8c1",
   "metadata": {},
   "source": [
    "# Cleaning Your Data\n",
    "Cleaning your data is an essential part of data analysis. Before you can run any analysis your data must be structured in a certain way. This will ensure that your analyses will run smoothly in any program. First, let's take a look at some messy data. This data file summarizes average monthly rainfall between the years of 2001 and 2019 in two different lakes: Lake Victoria and Lake Simiyu."
   ]
  },
  {
   "cell_type": "code",
   "execution_count": null,
   "id": "014ae343",
   "metadata": {},
   "outputs": [],
   "source": [
    "library(readxl)\n",
    "read_excel(\"messy-data.xlsx\")"
   ]
  },
  {
   "cell_type": "markdown",
   "id": "e28c2085",
   "metadata": {},
   "source": [
    "You can see there are a few things wrong with this data set.\n",
    "\n",
    "- The column headers are not accurate\n",
    "- There is no data in row one\n",
    "- The headers are in row two\n",
    "- The month and period columns are combined into one column\n",
    "- The total rainfall for each lake is rounded to different decimal points in some rows\n",
    "- Some rows have characters (mm) while others do not\n",
    "- The data is in wide format\n",
    "\n",
    "Clearly this data set needs some serious tidying. But first, what does a tidy data set look like?"
   ]
  },
  {
   "cell_type": "markdown",
   "id": "324415cf",
   "metadata": {},
   "source": [
    "## Tidy Data\n",
    "\n",
    "A tidy data set has two key features:\n",
    "\n",
    "- Each variable is saved in its own column \n",
    "- Each variable is saved in its own row\n",
    "\n",
    "This structure is specifically called long format, in which each observation has its own row. For example, in our data set there are 12 observations of rainfall for each lake. Therefore, we need 24 rows in our data set. Additionally, each variable needs to be saved in its own column. Thus, we need to create a column that denotes which group (Lake Victoria or Lake Simiyu) each observation belongs to. The data frame below shows what this data will look like once it is cleaned."
   ]
  },
  {
   "cell_type": "code",
   "execution_count": null,
   "id": "a801e549",
   "metadata": {},
   "outputs": [],
   "source": [
    "read.table(\"clean_data.txt\")"
   ]
  },
  {
   "cell_type": "markdown",
   "id": "ad49ff13",
   "metadata": {},
   "source": [
    "This looks much better! You'll notice all rainfall observations are in one column and each observation has its own row. Additionally, we have a column denoting group membership. This data is ready for analysis. So how did I get here? We are going to use a package called \"tidyr\"."
   ]
  },
  {
   "cell_type": "markdown",
   "id": "11c2a833",
   "metadata": {},
   "source": [
    "## Cleaning using the tidyr package\n",
    "First, I am going to read in my data and activate the tidyr package."
   ]
  },
  {
   "cell_type": "code",
   "execution_count": null,
   "id": "cea1d6e8",
   "metadata": {},
   "outputs": [],
   "source": [
    "library(tidyr)\n",
    "messy_data<-read_excel(\"messy-data.xlsx\")\n",
    "print(messy_data)"
   ]
  },
  {
   "cell_type": "markdown",
   "id": "83b28992",
   "metadata": {},
   "source": [
    "The first step I am going to take is to separate the Month and Period column. If you'll notice, the month and period are both in one column, and separated by a comma. It is important that in your data set all variables have their own column. Thus, we are going to use the separate function to separate this column into two."
   ]
  },
  {
   "cell_type": "code",
   "execution_count": null,
   "id": "461d9f83",
   "metadata": {},
   "outputs": [],
   "source": [
    "messy_data<-separate(messy_data, \"Seasonal rainfall in Lake Victoria and Simiyu\", c(\"Month\", \"Period\"), \",\")\n",
    "print(messy_data)"
   ]
  },
  {
   "cell_type": "markdown",
   "id": "0ee35dd8",
   "metadata": {},
   "source": [
    "The separate function uses the following arguments:\n",
    "- The first argument is your data file\n",
    "- The second argument is the new names of the new columns you want to create in a vector format\n",
    "- The third argument is how the two values are separate in the current column, in this case it is a comma\n"
   ]
  },
  {
   "cell_type": "markdown",
   "id": "714d3c91",
   "metadata": {},
   "source": [
    " Next, we are going to change the names of the columns to refelct more accurate names. This function will get rid of the \"..2\" and \"..3\" in columns 3 and 4. First, we are going to create a vector of all of our column names. Then assign these column names to our data file using the names function."
   ]
  },
  {
   "cell_type": "code",
   "execution_count": null,
   "id": "ec9c9d72",
   "metadata": {},
   "outputs": [],
   "source": [
    "varname<-c(\"Month\", \"Period\", \"Victoria\", \"Simiyu\")\n",
    "names(messy_data)<-varname\n",
    "print(messy_data)"
   ]
  },
  {
   "cell_type": "markdown",
   "id": "c6be685d",
   "metadata": {},
   "source": [
    "The next step is to delete any missing data."
   ]
  },
  {
   "cell_type": "code",
   "execution_count": null,
   "id": "cebcc2c9",
   "metadata": {},
   "outputs": [],
   "source": [
    "messy_data<-na.omit(messy_data)\n",
    "print(messy_data)"
   ]
  },
  {
   "cell_type": "markdown",
   "id": "403e4cb1",
   "metadata": {},
   "source": [
    "We also want to delete Row 1 because this row was the names of the columns in the excel file."
   ]
  },
  {
   "cell_type": "code",
   "execution_count": null,
   "id": "7374111c",
   "metadata": {},
   "outputs": [],
   "source": [
    "messy_data<-messy_data[-c(1),]\n",
    "print(messy_data)"
   ]
  },
  {
   "cell_type": "markdown",
   "id": "18f0780b",
   "metadata": {},
   "source": [
    "The '-c' denotes that you want to delete a column or a row. If you wanted to delete mulitple rows you could type:\n",
    "\n",
    "```{r}\n",
    "[-c(1,2,3,4),]\n",
    "```\n",
    "The argument after the comma represents columns. If you wanted to delete column 1 you could type:\n",
    "\n",
    "```{r}\n",
    "[, -c(1)]\n",
    "```"
   ]
  },
  {
   "cell_type": "markdown",
   "id": "dbfbcb04",
   "metadata": {},
   "source": [
    "Next, we want to convert our data to the long format. In this case we want a column that denotes which lake the data point is from, and a column denoting how much rainfall. We want to make sure each group is paired with the correct data point. For this, we are going to be using the gather function. "
   ]
  },
  {
   "cell_type": "code",
   "execution_count": null,
   "id": "9fffa751",
   "metadata": {},
   "outputs": [],
   "source": [
    "messy_data<-gather(messy_data, key=\"Lake\", value=\"Rainfall_mm\", 3:4)\n",
    "print(messy_data)"
   ]
  },
  {
   "cell_type": "markdown",
   "id": "39d49a86",
   "metadata": {},
   "source": [
    "The gather function uses the following arguments:\n",
    "\n",
    "- The first argument is the data frame name\n",
    "- The second argument is the new name of the column you want to create for the grouping variable. I chose \"Lake\" because I want to take the names of each lake and repeat it in the column twelve times; the number of observations of rainfall for that lake.\n",
    "- The third argument is the name of the column for the value you want to pair with the grouping variable. I chose \"Rainfall_mm\" because that is the observation or data point I want to pair with each grouping variable.\n",
    "- The final argument is the range of columns you want to turn into key-value pairs"
   ]
  },
  {
   "cell_type": "markdown",
   "id": "517e53b5",
   "metadata": {},
   "source": [
    "Let's now remove some unnecessary characters. "
   ]
  },
  {
   "cell_type": "code",
   "execution_count": null,
   "id": "bf416fe3",
   "metadata": {},
   "outputs": [],
   "source": [
    "messy_data$Rainfall_mm<-gsub('mm', '',messy_data$Rainfall_mm)\n",
    "messy_data$Rainfall_mm<-as.numeric(messy_data$Rainfall_mm)\n",
    "print(messy_data)"
   ]
  },
  {
   "cell_type": "markdown",
   "id": "81d43014",
   "metadata": {},
   "source": [
    "The gsub function uses the following arguments:\n",
    "\n",
    "- The first argument is the string of characters you want to remove from each data point. I want to remove the \"mm: off the end data points that have it\n",
    "- The second argument denotes what you want to replace the \"mm\" character string with. In this case I put a space because I don't want anything to replace it\n",
    "- The final argument is the column you want to apply this function to\n",
    "\n",
    "When using the gsub function, the column is automatically converted to a character variable. Use the as.numeric function to convert the column back to a numeric variable."
   ]
  },
  {
   "cell_type": "markdown",
   "id": "fdbebec4",
   "metadata": {},
   "source": [
    "Finally, let's ensure that all observations in the rainfall column are rounded to the same decimal point."
   ]
  },
  {
   "cell_type": "code",
   "execution_count": null,
   "id": "3698b3f9",
   "metadata": {},
   "outputs": [],
   "source": [
    "messy_data[,'Rainfall_mm']=round(messy_data[,'Rainfall_mm'],2)\n",
    "print(messy_data)"
   ]
  },
  {
   "cell_type": "markdown",
   "id": "27ad8554",
   "metadata": {},
   "source": [
    "Our data is clean now! Let's rename it \"clean data\""
   ]
  },
  {
   "cell_type": "code",
   "execution_count": null,
   "id": "a78cdb8e",
   "metadata": {},
   "outputs": [],
   "source": [
    "clean_data<-messy_data"
   ]
  },
  {
   "cell_type": "markdown",
   "id": "d91e3880",
   "metadata": {},
   "source": [
    "To save it as new data file, use the write.table function. This will save the new version of your data file to your computer."
   ]
  },
  {
   "cell_type": "code",
   "execution_count": null,
   "id": "69c977cc",
   "metadata": {},
   "outputs": [],
   "source": [
    "write.table(clean_data, file = \"clean_data.txt\")\n",
    "read.table(\"clean_data.txt\")"
   ]
  },
  {
   "cell_type": "markdown",
   "id": "28370165",
   "metadata": {},
   "source": [
    "## Other Tidy R Functions\n",
    "\n",
    "The above functions only scratch the surface of the tidyr package. The reshape functions mentioned above have their reverse counterparts. For example, if you want to spread rows across columns, you will want to use the spread function. For example, if you want two columns for rainfall in each lake, you would use the following code."
   ]
  },
  {
   "cell_type": "code",
   "execution_count": null,
   "id": "5d1e4cfb",
   "metadata": {},
   "outputs": [],
   "source": [
    "wide_data<-spread(clean_data, \"Lake\", \"Rainfall_mm\")\n",
    "print(wide_data)"
   ]
  },
  {
   "cell_type": "markdown",
   "id": "acaddf3d",
   "metadata": {},
   "source": [
    "Like before, we used the separate function to separate the Month and Period columns, but you can reunite these columns using the unite function."
   ]
  },
  {
   "cell_type": "code",
   "execution_count": null,
   "id": "3ac99cf6",
   "metadata": {},
   "outputs": [],
   "source": [
    "wide_data<-unite(clean_data,col=\"Month,Period\",c(\"Month\", \"Period\"), sep=\",\")\n",
    "print(wide_data)"
   ]
  },
  {
   "cell_type": "markdown",
   "id": "a59b21cb",
   "metadata": {},
   "source": [
    "In Part 2 we will discuss how to manipulate your data using the dplyr package!"
   ]
  }
 ],
 "metadata": {
  "kernelspec": {
   "display_name": "R",
   "language": "R",
   "name": "ir"
  },
  "language_info": {
   "codemirror_mode": "r",
   "file_extension": ".r",
   "mimetype": "text/x-r-source",
   "name": "R",
   "pygments_lexer": "r",
   "version": "3.6.1"
  }
 },
 "nbformat": 4,
 "nbformat_minor": 5
}
